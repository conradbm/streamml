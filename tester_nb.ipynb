{
 "cells": [
  {
   "cell_type": "code",
   "execution_count": 3,
   "metadata": {},
   "outputs": [
    {
     "name": "stdout",
     "output_type": "stream",
     "text": [
      "custom: pca__percent_variance=0.75\n",
      "default: _tsne_n_components=3\n",
      "custom: kmeans__n_clusters=2\n",
      "default: binarize__threshold=0.0\n"
     ]
    },
    {
     "ename": "AttributeError",
     "evalue": "'TSNETransformer' object has no attribute '_tsne_n_components'",
     "output_type": "error",
     "traceback": [
      "\u001b[1;31m---------------------------------------------------------------------------\u001b[0m",
      "\u001b[1;31mAttributeError\u001b[0m                            Traceback (most recent call last)",
      "\u001b[1;32m<ipython-input-3-1f7fba202d1d>\u001b[0m in \u001b[0;36m<module>\u001b[1;34m()\u001b[0m\n\u001b[0;32m     51\u001b[0m                                             \u001b[1;34m\"pca__percent_variance\"\u001b[0m\u001b[1;33m:\u001b[0m\u001b[1;36m0.75\u001b[0m\u001b[1;33m,\u001b[0m\u001b[1;33m\u001b[0m\u001b[0m\n\u001b[0;32m     52\u001b[0m                                             \"kmeans__n_clusters\":2},\n\u001b[1;32m---> 53\u001b[1;33m                                    verbose=False)\n\u001b[0m\u001b[0;32m     54\u001b[0m \u001b[1;33m\u001b[0m\u001b[0m\n\u001b[0;32m     55\u001b[0m \u001b[1;31m#preproc options: scale, normalize, boxcox, binarize, pca, kmeans\u001b[0m\u001b[1;33m\u001b[0m\u001b[1;33m\u001b[0m\u001b[0m\n",
      "\u001b[1;32mC:\\Users\\1517766115.CIV\\Desktop\\streamml\\streamline\\transformation\\flow\\TransformationStream.py\u001b[0m in \u001b[0;36mflow\u001b[1;34m(self, preproc_args, params, verbose)\u001b[0m\n\u001b[0;32m    290\u001b[0m         \u001b[1;31m# Return transformed data\u001b[0m\u001b[1;33m\u001b[0m\u001b[1;33m\u001b[0m\u001b[0m\n\u001b[0;32m    291\u001b[0m         \u001b[1;32mreturn\u001b[0m \u001b[0mself\u001b[0m\u001b[1;33m.\u001b[0m\u001b[0m_df_transformed\u001b[0m\u001b[1;33m\u001b[0m\u001b[0m\n\u001b[1;32m--> 292\u001b[1;33m \u001b[1;33m\u001b[0m\u001b[0m\n\u001b[0m",
      "\u001b[1;32mC:\\Users\\1517766115.CIV\\Desktop\\streamml\\streamline\\transformation\\flow\\TransformationStream.py\u001b[0m in \u001b[0;36mrunTSNE\u001b[1;34m(X, verbose)\u001b[0m\n\u001b[0;32m    268\u001b[0m         \u001b[1;31m# Unimplemented\u001b[0m\u001b[1;33m\u001b[0m\u001b[1;33m\u001b[0m\u001b[0m\n\u001b[0;32m    269\u001b[0m         \u001b[1;32mdef\u001b[0m \u001b[0mrunItemset\u001b[0m\u001b[1;33m(\u001b[0m\u001b[0mX\u001b[0m\u001b[1;33m,\u001b[0m \u001b[0mverbose\u001b[0m\u001b[1;33m=\u001b[0m\u001b[1;32mFalse\u001b[0m\u001b[1;33m)\u001b[0m\u001b[1;33m:\u001b[0m\u001b[1;33m\u001b[0m\u001b[0m\n\u001b[1;32m--> 270\u001b[1;33m             \u001b[1;32mif\u001b[0m \u001b[0mverbose\u001b[0m\u001b[1;33m:\u001b[0m\u001b[1;33m\u001b[0m\u001b[0m\n\u001b[0m\u001b[0;32m    271\u001b[0m                 \u001b[0mprint\u001b[0m \u001b[1;33m(\u001b[0m\u001b[1;34m\"Itemset mining unimplemented\\n\"\u001b[0m\u001b[1;33m)\u001b[0m\u001b[1;33m\u001b[0m\u001b[0m\n\u001b[0;32m    272\u001b[0m             \u001b[1;32mreturn\u001b[0m \u001b[0mX\u001b[0m\u001b[1;33m\u001b[0m\u001b[0m\n",
      "\u001b[1;32mC:\\Users\\1517766115.CIV\\Desktop\\streamml\\streamline\\transformation\\transformers\\TSNETransformer.py\u001b[0m in \u001b[0;36mtransform\u001b[1;34m(self, X)\u001b[0m\n\u001b[0;32m     10\u001b[0m     \u001b[1;31m# http://scikit-learn.org/stable/modules/preprocessing.html\u001b[0m\u001b[1;33m\u001b[0m\u001b[1;33m\u001b[0m\u001b[0m\n\u001b[0;32m     11\u001b[0m     \u001b[1;32mdef\u001b[0m \u001b[0mtransform\u001b[0m\u001b[1;33m(\u001b[0m\u001b[0mself\u001b[0m\u001b[1;33m,\u001b[0m \u001b[0mX\u001b[0m\u001b[1;33m)\u001b[0m\u001b[1;33m:\u001b[0m\u001b[1;33m\u001b[0m\u001b[0m\n\u001b[1;32m---> 12\u001b[1;33m         \u001b[0mX_embedded\u001b[0m \u001b[1;33m=\u001b[0m \u001b[0mTSNE\u001b[0m\u001b[1;33m(\u001b[0m\u001b[0mn_components\u001b[0m\u001b[1;33m=\u001b[0m\u001b[0mself\u001b[0m\u001b[1;33m.\u001b[0m\u001b[0m_tsne_n_components\u001b[0m\u001b[1;33m)\u001b[0m\u001b[1;33m.\u001b[0m\u001b[0mfit_transform\u001b[0m\u001b[1;33m(\u001b[0m\u001b[0mX\u001b[0m\u001b[1;33m)\u001b[0m\u001b[1;33m\u001b[0m\u001b[0m\n\u001b[0m\u001b[0;32m     13\u001b[0m         \u001b[1;32mreturn\u001b[0m \u001b[0mpd\u001b[0m\u001b[1;33m.\u001b[0m\u001b[0mDataFrame\u001b[0m\u001b[1;33m(\u001b[0m\u001b[0mscale\u001b[0m\u001b[1;33m(\u001b[0m\u001b[0mX\u001b[0m\u001b[1;33m)\u001b[0m\u001b[1;33m)\u001b[0m\u001b[1;33m\u001b[0m\u001b[0m\n",
      "\u001b[1;31mAttributeError\u001b[0m: 'TSNETransformer' object has no attribute '_tsne_n_components'"
     ]
    }
   ],
   "source": [
    "import pandas as pd\n",
    "import numpy as np\n",
    "import sys\n",
    "sys.path.append('C:\\\\Users\\\\1517766115.CIV\\\\Desktop')\n",
    "import warnings\n",
    "warnings.filterwarnings(\"ignore\")\n",
    "\n",
    "from streamml.streamline.transformation.flow.TransformationStream import TransformationStream\n",
    "#from streamml.streamline.model_selection.flow.ModelSelectionStream import ModelSelectionStream\n",
    "\n",
    "# git checkout -b modelSelectionUpdates\n",
    "# git push -u origin modelSelectionUpdates\n",
    "\n",
    "# FOR MAC:\n",
    "# nano ~/.bash_profile\n",
    "# export PYTHONPATH=\"${PYTHONPATH}:/Users/bmc/Desktop/streamml\"\n",
    "# source ~/.bash_profile\n",
    "# python -W ignore tester.py\n",
    "\n",
    "X = pd.DataFrame(np.matrix([[np.random.exponential() for j in range(10)] for i in range(200)]))\n",
    "y = pd.DataFrame(np.array([np.random.exponential() for i in range(200)]))\n",
    "\n",
    "#D = pd.read_csv(\"Series3_6.15.17_padel.csv\")\n",
    "#X = D.iloc[:,2:]\n",
    "#y = D.iloc[:,1]\n",
    "\n",
    "#ynakiller = y.isna()\n",
    "#X = X.iloc[-ynakiller,:]\n",
    "#y = y.iloc[-ynakiller]\n",
    "#X.replace([np.nan, np.inf, -np.inf],0, inplace=True)\n",
    "\n",
    "#print(X.shape)\n",
    "#print (y.shape)\n",
    "\n",
    "\"\"\"\n",
    "Supported Transformations:\n",
    "[\"scale\",\"normalize\",\"boxcox\",\"binarize\",\"pca\",\"kmeans\"]\n",
    "http://scikit-learn.org/stable/modules/generated/sklearn.preprocessing.StandardScaler.html\n",
    "http://scikit-learn.org/stable/modules/generated/sklearn.preprocessing.Normalizer.html\n",
    "https://docs.scipy.org/doc/scipy/reference/generated/scipy.stats.boxcox.html\n",
    "http://scikit-learn.org/stable/modules/generated/sklearn.preprocessing.Binarizer.html\n",
    "http://scikit-learn.org/stable/modules/generated/sklearn.decomposition.PCA.html\n",
    "http://scikit-learn.org/stable/modules/generated/sklearn.cluster.KMeans.html\n",
    "\n",
    "To be implemented:\n",
    "[\"brbm\"] --> Latent representations of the data\n",
    "http://scikit-learn.org/stable/modules/generated/sklearn.neural_network.BernoulliRBM.html#sklearn.neural_network.BernoulliRBM\n",
    "\"\"\"\n",
    "Xnew = TransformationStream(X).flow([\"scale\",\"normalize\",\"pca\",\"kmeans\",\"binarize\",\"brbm\",\"tsne\"], \n",
    "                                    params={\"tnse_n_components\":4,\n",
    "                                            \"pca__percent_variance\":0.75, \n",
    "                                            \"kmeans__n_clusters\":2},\n",
    "                                   verbose=False)\n",
    "\n",
    "#preproc options: scale, normalize, boxcox, binarize, pca, kmeans\n",
    "#model options: \n",
    "#error options: 'mean_squared_error','r2'\n",
    "\n",
    "#scoring option not working right, be okay with default scorers.\n",
    "Xnew\n"
   ]
  },
  {
   "cell_type": "code",
   "execution_count": null,
   "metadata": {
    "collapsed": true
   },
   "outputs": [],
   "source": [
    "\"\"\"\n",
    "Supported Models:\n",
    "[\"lr\", \"ridge\", \"lasso\", \"enet\", \"svr\", \"knnr\", \"abr\", \"rfr\", \"mlpr\"]\n",
    "http://scikit-learn.org/stable/modules/generated/sklearn.linear_model.LinearRegression.html\n",
    "http://scikit-learn.org/stable/modules/generated/sklearn.linear_model.Ridge.html\n",
    "http://scikit-learn.org/stable/modules/generated/sklearn.linear_model.Lasso.html\n",
    "http://scikit-learn.org/stable/modules/generated/sklearn.linear_model.ElasticNet.html\n",
    "http://scikit-learn.org/stable/modules/generated/sklearn.svm.SVR.html\n",
    "http://scikit-learn.org/stable/modules/generated/sklearn.neighbors.KNeighborsRegressor.html\n",
    "http://scikit-learn.org/stable/modules/generated/sklearn.ensemble.AdaBoostRegressor.html\n",
    "http://scikit-learn.org/stable/modules/generated/sklearn.ensemble.RandomForestRegressor.html\n",
    "\n",
    "To be implemented\n",
    "[\"lar\", \"dtr\"]\n",
    "http://scikit-learn.org/stable/modules/generated/sklearn.tree.DecisionTreeRegressor.html#sklearn.tree.DecisionTreeRegressor\n",
    "\n",
    "Supported Metrics:\n",
    "['rmse','mse', 'r2','explained_variance','mean_absolute_error','median_absolute_error']\n",
    "\"\"\"\n",
    "\n",
    "\n",
    "\n",
    "performances = ModelSelectionStream(Xnew,y).flow([\"svr\", \"lr\", \"knnr\",\"lasso\",\"abr\", \"mlpr\"],\n",
    "                                              params={'svr__C':[1,0.1,0.01,0.001],\n",
    "                                                      'svr__gamma':[0, 0.01, 0.001, 0.0001],\n",
    "                                                      'svr__kernel':['poly', 'rbf'],\n",
    "                                                      'svr__epsilon':[0,0.1,0.01,0.001],\n",
    "                                                     'lr__fit_intercept':[False, True],\n",
    "                                                     'knnr__n_neighbors':[3, 5,7, 9, 11, 13,15,17,19,21],\n",
    "                                                     'lasso__alpha':[0,0.01,1,10.0,20.0],\n",
    "                                                     'abr__n_estimators':[10,20,50],\n",
    "                                                     'abr__learning_rate':[0.1,1,10, 100]},\n",
    "                                                metrics=['r2','rmse'],\n",
    "                                                verbose=True,\n",
    "                                                regressors=True,\n",
    "                                                cut=2)\n",
    "                                                \n",
    "print(performances)"
   ]
  },
  {
   "cell_type": "code",
   "execution_count": 7,
   "metadata": {
    "collapsed": true
   },
   "outputs": [],
   "source": [
    "# TO BE INTEGRATED INTO STREAMML FEATURE SELECTION MODULE"
   ]
  },
  {
   "cell_type": "code",
   "execution_count": null,
   "metadata": {
    "collapsed": true
   },
   "outputs": [],
   "source": [
    "# Mixed Selection\n",
    "from statsmodels.regression import linear_model\n",
    "\n",
    "def mixed_selection(X, y, \n",
    "                       initial_list=[], \n",
    "                       threshold_in=0.01, \n",
    "                       threshold_out = 0.05, \n",
    "                       verbose=True):\n",
    "    \"\"\" Perform a forward-backward feature selection \n",
    "    based on p-value from statsmodels.api.OLS\n",
    "    Arguments:\n",
    "        X - pandas.DataFrame with candidate features\n",
    "        y - list-like with the target\n",
    "        initial_list - list of features to start with (column names of X)\n",
    "        threshold_in - include a feature if its p-value < threshold_in\n",
    "        threshold_out - exclude a feature if its p-value > threshold_out\n",
    "        verbose - whether to print the sequence of inclusions and exclusions\n",
    "    Returns: list of selected features \n",
    "    Always set threshold_in < threshold_out to avoid infinite looping.\n",
    "    See https://en.wikipedia.org/wiki/Stepwise_regression for the details\n",
    "    \"\"\"\n",
    "    included = list(initial_list)\n",
    "    while True:\n",
    "        changed=False\n",
    "        \n",
    "        # forward step\n",
    "        excluded = list(set(X.columns)-set(included))\n",
    "        new_pval = pd.Series(index=excluded)\n",
    "        for new_column in excluded:\n",
    "            model = sm.OLS(y, sm.add_constant(pd.DataFrame(X[included+[new_column]]))).fit()\n",
    "            new_pval[new_column] = model.pvalues[new_column]\n",
    "                                                      \n",
    "        best_pval = new_pval.min()\n",
    "        \n",
    "        \n",
    "\n",
    "        if best_pval < threshold_in:\n",
    "            best_feature = new_pval.idxmin()\n",
    "            #best_feature = new_pval.argmin()\n",
    "            included.append(best_feature)\n",
    "            changed=True\n",
    "            if verbose:\n",
    "                print('Add  {:30} with p-value {:.6}'.format(best_feature, best_pval))\n",
    "\n",
    "        # backward step\n",
    "        model = sm.OLS(y, sm.add_constant(pd.DataFrame(X[included]))).fit()\n",
    "        # use all coefs except intercept\n",
    "        pvalues = model.pvalues.iloc[1:]\n",
    "        worst_pval = pvalues.max() # null if pvalues is empty\n",
    "        if worst_pval > threshold_out:\n",
    "            changed=True\n",
    "            worst_feature = pvalues.idxmax()\n",
    "            #worst_feature = pvalues.argmax()\n",
    "            included.remove(worst_feature)\n",
    "            if verbose:\n",
    "                print('Drop {:30} with p-value {:.6}'.format(worst_feature, worst_pval))\n",
    "\n",
    "        if not changed:\n",
    "            break\n",
    "\n",
    "    \n",
    "    return included"
   ]
  },
  {
   "cell_type": "code",
   "execution_count": null,
   "metadata": {
    "collapsed": true
   },
   "outputs": [],
   "source": []
  },
  {
   "cell_type": "code",
   "execution_count": null,
   "metadata": {
    "collapsed": true
   },
   "outputs": [],
   "source": [
    "# Lasso\n",
    "# (Feature_Space_3) Lasso Coeficients > 0 \n",
    "\n",
    "lasso_pipe             = Pipeline([('lasso',Lasso())])\n",
    "lasso_param_grid       = {'lasso__alpha':[0.01, 0.1, 1, 10, 100]}\n",
    "lasso_grid             = GridSearchCV(lasso_pipe, param_grid=lasso_param_grid, cv=3, n_jobs=4, verbose=True)\n",
    "lasso_fit              = lasso_grid.fit(Xtrain,bigframe_train.IC50).best_estimator_.named_steps[\"lasso\"]\n",
    "lasso_features         = lasso_fit.coef_\n",
    "lasso_features         = bigframe.columns[abs(lasso_fit.coef_) > 0].tolist()\n",
    "lasso_features_size    = len(lasso_features)\n",
    "lasso_features"
   ]
  },
  {
   "cell_type": "code",
   "execution_count": null,
   "metadata": {
    "collapsed": true
   },
   "outputs": [],
   "source": [
    "# Random Forest\n",
    "# (Feature_Space_4) Feature Importance > 0 \n",
    "\n",
    "rf_pipe              = Pipeline([('rf',RandomForestClassifier())])\n",
    "rf_param_grid       = {'rf__n_estimators':[10,100],\n",
    "                       'rf__bootstrap':[True, False],\n",
    "                       'rf__criterion':['gini','entropy']}\n",
    "\n",
    "rf_grid             = GridSearchCV(rf_pipe, param_grid=rf_param_grid, n_jobs=4, cv=3, verbose=True)\n",
    "\n",
    "rf_fit              = rf_grid.fit(Xtrain,ytrain).best_estimator_.named_steps['rf']\n",
    "rf_features         = rf_fit.feature_importances_\n",
    "rf_features         = bigframe.columns[rf_features > 0].tolist()\n",
    "rf_features_size    = len(rf_features)\n",
    "rf_features\n"
   ]
  },
  {
   "cell_type": "code",
   "execution_count": null,
   "metadata": {
    "collapsed": true
   },
   "outputs": [],
   "source": [
    "#MADM\n",
    "from skcriteria import Data, MIN, MAX\n",
    "from skcriteria.madm import closeness, simple\n",
    "\n",
    "# (Feature_Space_5) TOPSIS Top K Ranked Features\n",
    "\n",
    "feat_df = pd.DataFrame({'RF_Classifier':rf_fit.feature_importances_,\n",
    "                        'LASSO_Coef':abs(lasso_fit.coef_)},\n",
    "                      index=bigframe.columns[3:].tolist())\n",
    "\n",
    "mtx = feat_df.as_matrix()\n",
    "mtx\n",
    "\n",
    "# let's says the first two alternatives are\n",
    "# for maximization and the last one for minimization\n",
    "criteria = [MAX, MAX]\n",
    "criteria\n",
    "\n",
    "data = Data(mtx, criteria,\n",
    "            weights=[0.5,0.5],\n",
    "            anames=feat_df.index.tolist(),\n",
    "            cnames=feat_df.columns)\n",
    "\n",
    "dm1 = simple.WeightedSum()\n",
    "dm2 = simple.WeightedProduct()\n",
    "dm3 = closeness.TOPSIS(mnorm=\"vector\")\n",
    "dm4 = closeness.TOPSIS(mnorm=\"sum\")\n",
    "\n",
    "ranks=[]\n",
    "for alg in [dm1, dm2, dm3, dm4]:\n",
    "    dec = alg.decide(data)\n",
    "    ranks.append(dec.rank_) \n",
    "# Now lets decide the ranking\n",
    "\n",
    "rank_matrix= pd.DataFrame(ranks, index=['WeightedSum',\n",
    "                                     'WeightedProduct',\n",
    "                                     'TOPSIS_VectorNormalized',\n",
    "                                     'TOPSIS_SumNormalized'],\n",
    "                                   columns=feat_df.index).T\n",
    "\n",
    "rank_matrix\n",
    "\n",
    "rank_mask = rank_matrix < max([  len(rf_features),\n",
    "                                 len(lasso_features),\n",
    "                                 len(mixed_selection_features),\n",
    "                                 len(mixed_selection_1x_features)])\n",
    "\n",
    "rank_matrix=rank_matrix.loc[(rank_mask).any(axis=1)]\n",
    "\n",
    "topsis_features = rank_matrix.index.tolist()\n",
    "topsis_features_size = len(topsis_features)\n",
    "\n",
    "\n"
   ]
  },
  {
   "cell_type": "code",
   "execution_count": null,
   "metadata": {
    "collapsed": true
   },
   "outputs": [],
   "source": [
    "# Get subspace features\n",
    "data_per_space = {}\n",
    "def get_train_test_in_space(bigframe_train, bigframe_test, space):\n",
    "\n",
    "    bigframe_train = shuffle(bigframe_train, random_state=0)\n",
    "    bigframe_test = shuffle(bigframe_test, random_state=0)\n",
    "    \n",
    "    ytrain = bigframe_train[\"bin2\"].as_matrix()\n",
    "    Xtrain = StandardScaler().fit_transform(bigframe_train[space].as_matrix())\n",
    "\n",
    "    ytest = bigframe_test[\"bin2\"].as_matrix()\n",
    "    Xtest = StandardScaler().fit_transform(bigframe_test[space].as_matrix())\n",
    "    print(\"Data ready to model.\")\n",
    "    \n",
    "    return Xtrain, ytrain, Xtest, ytest\n",
    "\n",
    "for k,space in feature_space.items():\n",
    "    data_per_space[k]=get_train_test_in_space(bigframe_train, bigframe_test, space)"
   ]
  },
  {
   "cell_type": "code",
   "execution_count": null,
   "metadata": {
    "collapsed": true
   },
   "outputs": [],
   "source": [
    "# Confidence Intervals\n",
    "import numpy as np\n",
    "import scipy as sp\n",
    "import scipy.stats\n",
    "\n",
    "full_confidence_intervals={}\n",
    "def mean_confidence_interval(data, confidence=0.95):\n",
    "    a = 1.0*np.array(data)\n",
    "    n = len(a)\n",
    "    m, se = np.mean(a), scipy.stats.sem(a)\n",
    "    h = se * sp.stats.t._ppf((1+confidence)/2., n-1)\n",
    "    return m-h, m+h\n",
    "\n",
    "for k,v in full_scores.items():\n",
    "    \n",
    "    full_confidence_intervals[k] = mean_confidence_interval(v)"
   ]
  },
  {
   "cell_type": "code",
   "execution_count": null,
   "metadata": {
    "collapsed": true
   },
   "outputs": [],
   "source": [
    "# Visualize Confidence Intervals\n",
    "import matplotlib\n",
    "font = {'family' : 'normal',\n",
    "  'weight' : 'bold',\n",
    "  'size' : 16}\n",
    "matplotlib.rc('font', **font)\n",
    "ax=sns.boxplot(x=\"AUC\", y=\"Model\", data=pd.melt(pd.DataFrame(full_confidence_intervals), var_name='Model', value_name='AUC'))    \n",
    "plt.title('ROC AUC ML Model')\n",
    "plt.show()\n",
    "# Add legend Add title Change Axis"
   ]
  },
  {
   "cell_type": "code",
   "execution_count": null,
   "metadata": {
    "collapsed": true
   },
   "outputs": [],
   "source": [
    "\n"
   ]
  },
  {
   "cell_type": "code",
   "execution_count": 2,
   "metadata": {},
   "outputs": [
    {
     "data": {
      "text/plain": [
       "['',\n",
       " '/Users/laurensuarez/anaconda3/lib/python36.zip',\n",
       " '/Users/laurensuarez/anaconda3/lib/python3.6',\n",
       " '/Users/laurensuarez/anaconda3/lib/python3.6/lib-dynload',\n",
       " '/Users/laurensuarez/anaconda3/lib/python3.6/site-packages',\n",
       " '/Users/laurensuarez/anaconda3/lib/python3.6/site-packages/aeosa',\n",
       " '/Users/laurensuarez/anaconda3/lib/python3.6/site-packages/IPython/extensions',\n",
       " '/Users/laurensuarez/.ipython']"
      ]
     },
     "execution_count": 2,
     "metadata": {},
     "output_type": "execute_result"
    }
   ],
   "source": []
  },
  {
   "cell_type": "code",
   "execution_count": null,
   "metadata": {
    "collapsed": true
   },
   "outputs": [],
   "source": []
  }
 ],
 "metadata": {
  "kernelspec": {
   "display_name": "Python 3",
   "language": "python",
   "name": "python3"
  },
  "language_info": {
   "codemirror_mode": {
    "name": "ipython",
    "version": 3
   },
   "file_extension": ".py",
   "mimetype": "text/x-python",
   "name": "python",
   "nbconvert_exporter": "python",
   "pygments_lexer": "ipython3",
   "version": "3.6.1"
  }
 },
 "nbformat": 4,
 "nbformat_minor": 2
}
