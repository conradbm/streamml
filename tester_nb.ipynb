{
 "cells": [
  {
   "cell_type": "code",
   "execution_count": 10,
   "metadata": {},
   "outputs": [
    {
     "name": "stdout",
     "output_type": "stream",
     "text": [
      "custom: pca__percent_variance=0.75\n",
      "custom: kmeans__n_clusters=2\n",
      "**************************************************\n",
      "Model Selection Streamline: svr --> lr --> knnr --> lasso --> abr --> mlpr\n",
      "**************************************************\n",
      "Constructed SupportVectorRegressorPredictiveModel: svr\n",
      "Constructed LinearRegressorPredictiveModel: lr\n",
      "Constructed KNeighborsRegressorRegressorPredictiveModel: knnr\n",
      "Constructed LassoRegressorPredictiveModel: lasso\n",
      "Constructed AdaptiveBoostingRegressorPredictiveModel: abr\n",
      "Constructed MultilayerPerceptronRegressor: mlpr\n",
      "**************************************************\n",
      "Determining Best Estimators.\n",
      "**************************************************\n",
      "Returning svr best estiminator\n",
      "Returning lr best estiminator\n",
      "Returning knnr best estiminator\n",
      "Returning lasso best estiminator\n",
      "Returning abr best estiminator\n",
      "Returning mlpr best estiminator\n",
      "**************************************************\n",
      "Regressor Performance Sheet\n",
      "**************************************************\n",
      "           svr        lr      knnr     lasso       abr      mlpr\n",
      "r2   -0.134841  0.020402  0.095284 -0.016178  0.244934  0.158277\n",
      "rmse  1.116518  1.035676  0.994413  1.056522  0.890136  0.960073\n"
     ]
    },
    {
     "data": {
      "image/png": "[encoded data removed]",
      "text/plain": [
       "<Figure size 432x288 with 1 Axes>"
      ]
     },
     "metadata": {},
     "output_type": "display_data"
    },
    {
     "name": "stdout",
     "output_type": "stream",
     "text": [
      "{'svr': SVR(C=0.1, cache_size=200, coef0=0.0, degree=3, epsilon=0.1, gamma=0.01,\n",
      "  kernel='rbf', max_iter=-1, shrinking=True, tol=0.001, verbose=False), 'lr': LinearRegression(copy_X=True, fit_intercept=True, n_jobs=1, normalize=False), 'knnr': KNeighborsRegressor(algorithm='auto', leaf_size=30, metric='minkowski',\n",
      "          metric_params=None, n_jobs=1, n_neighbors=9, p=2,\n",
      "          weights='uniform'), 'lasso': Lasso(alpha=1, copy_X=True, fit_intercept=True, max_iter=1000,\n",
      "   normalize=False, positive=False, precompute=False, random_state=None,\n",
      "   selection='cyclic', tol=0.0001, warm_start=False), 'abr': AdaBoostRegressor(base_estimator=None, learning_rate=0.1, loss='linear',\n",
      "         n_estimators=20, random_state=None), 'mlpr': MLPRegressor(activation='relu', alpha=0.0001, batch_size='auto', beta_1=0.9,\n",
      "       beta_2=0.999, early_stopping=False, epsilon=1e-08,\n",
      "       hidden_layer_sizes=(100,), learning_rate='constant',\n",
      "       learning_rate_init=0.001, max_iter=200, momentum=0.9,\n",
      "       nesterovs_momentum=True, power_t=0.5, random_state=None,\n",
      "       shuffle=True, solver='adam', tol=0.0001, validation_fraction=0.1,\n",
      "       verbose=False, warm_start=False)}\n"
     ]
    }
   ],
   "source": [
    "\n",
    "import pandas as pd\n",
    "import numpy as np\n",
    "import sys\n",
    "sys.path.append('/Users/laurensuarez/Desktop/streamml')\n",
    "import warnings\n",
    "warnings.filterwarnings(\"ignore\")\n",
    "\n",
    "from streamline.transformation.flow.TransformationStream import TransformationStream\n",
    "from streamline.model_selection.flow.ModelSelectionStream import ModelSelectionStream\n",
    "\n",
    "# git checkout -b modelSelectionUpdates\n",
    "# git push -u origin modelSelectionUpdates\n",
    "\n",
    "# FOR MAC:\n",
    "# nano ~/.bash_profile\n",
    "# export PYTHONPATH=\"${PYTHONPATH}:/Users/bmc/Desktop/streamml\"\n",
    "# source ~/.bash_profile\n",
    "# python -W ignore tester.py\n",
    "\n",
    "X = pd.DataFrame(np.matrix([[np.random.exponential() for j in range(10)] for i in range(200)]))\n",
    "y = pd.DataFrame(np.array([np.random.exponential() for i in range(200)]))\n",
    "\n",
    "#D = pd.read_csv(\"Series3_6.15.17_padel.csv\")\n",
    "#X = D.iloc[:,2:]\n",
    "#y = D.iloc[:,1]\n",
    "\n",
    "#ynakiller = y.isna()\n",
    "#X = X.iloc[-ynakiller,:]\n",
    "#y = y.iloc[-ynakiller]\n",
    "#X.replace([np.nan, np.inf, -np.inf],0, inplace=True)\n",
    "\n",
    "#print(X.shape)\n",
    "#print (y.shape)\n",
    "\n",
    "\"\"\"\n",
    "Supported Transformations:\n",
    "[\"scale\",\"normalize\",\"boxcox\",\"binarize\",\"pca\",\"kmeans\"]\n",
    "http://scikit-learn.org/stable/modules/generated/sklearn.preprocessing.StandardScaler.html\n",
    "http://scikit-learn.org/stable/modules/generated/sklearn.preprocessing.Normalizer.html\n",
    "https://docs.scipy.org/doc/scipy/reference/generated/scipy.stats.boxcox.html\n",
    "http://scikit-learn.org/stable/modules/generated/sklearn.preprocessing.Binarizer.html\n",
    "http://scikit-learn.org/stable/modules/generated/sklearn.decomposition.PCA.html\n",
    "http://scikit-learn.org/stable/modules/generated/sklearn.cluster.KMeans.html\n",
    "\n",
    "To be implemented:\n",
    "[\"brbm\"] --> Latent representations of the data\n",
    "http://scikit-learn.org/stable/modules/generated/sklearn.neural_network.BernoulliRBM.html#sklearn.neural_network.BernoulliRBM\n",
    "\"\"\"\n",
    "Xnew = TransformationStream(X).flow([\"scale\",\"normalize\",\"pca\", \"kmeans\"], \n",
    "                                    params={\"pca__percent_variance\":0.75, \n",
    "                                            \"kmeans__n_clusters\":2},\n",
    "                                   verbose=False)\n",
    "\n",
    "#preproc options: scale, normalize, boxcox, binarize, pca, kmeans\n",
    "#model options: \n",
    "#error options: 'mean_squared_error','r2'\n",
    "\n",
    "#scoring option not working right, be okay with default scorers.\n",
    "\n",
    "\"\"\"\n",
    "Supported Models:\n",
    "[\"lr\", \"ridge\", \"lasso\", \"enet\", \"svr\", \"knnr\", \"abr\", \"rfr\", \"mlpr\"]\n",
    "http://scikit-learn.org/stable/modules/generated/sklearn.linear_model.LinearRegression.html\n",
    "http://scikit-learn.org/stable/modules/generated/sklearn.linear_model.Ridge.html\n",
    "http://scikit-learn.org/stable/modules/generated/sklearn.linear_model.Lasso.html\n",
    "http://scikit-learn.org/stable/modules/generated/sklearn.linear_model.ElasticNet.html\n",
    "http://scikit-learn.org/stable/modules/generated/sklearn.svm.SVR.html\n",
    "http://scikit-learn.org/stable/modules/generated/sklearn.neighbors.KNeighborsRegressor.html\n",
    "http://scikit-learn.org/stable/modules/generated/sklearn.ensemble.AdaBoostRegressor.html\n",
    "http://scikit-learn.org/stable/modules/generated/sklearn.ensemble.RandomForestRegressor.html\n",
    "\n",
    "To be implemented\n",
    "[\"lar\", \"dtr\"]\n",
    "http://scikit-learn.org/stable/modules/generated/sklearn.tree.DecisionTreeRegressor.html#sklearn.tree.DecisionTreeRegressor\n",
    "\n",
    "Supported Metrics:\n",
    "['rmse','mse', 'r2','explained_variance','mean_absolute_error','median_absolute_error']\n",
    "\"\"\"\n",
    "\n",
    "\n",
    "\n",
    "performances = ModelSelectionStream(Xnew,y).flow([\"svr\", \"lr\", \"knnr\",\"lasso\",\"abr\", \"mlpr\"],\n",
    "                                              params={'svr__C':[1,0.1,0.01,0.001],\n",
    "                                                      'svr__gamma':[0, 0.01, 0.001, 0.0001],\n",
    "                                                      'svr__kernel':['poly', 'rbf'],\n",
    "                                                      'svr__epsilon':[0,0.1,0.01,0.001],\n",
    "                                                     'lr__fit_intercept':[False, True],\n",
    "                                                     'knnr__n_neighbors':[3, 5,7, 9, 11, 13,15,17,19,21],\n",
    "                                                     'lasso__alpha':[0,0.01,1,10.0,20.0],\n",
    "                                                     'abr__n_estimators':[10,20,50],\n",
    "                                                     'abr__learning_rate':[0.1,1,10, 100]},\n",
    "                                                metrics=['r2','rmse'],\n",
    "                                                verbose=True,\n",
    "                                                regressors=True,\n",
    "                                                cut=2)\n",
    "                                                \n",
    "print(performances)"
   ]
  },
  {
   "cell_type": "code",
   "execution_count": 7,
   "metadata": {},
   "outputs": [],
   "source": [
    "# TO BE INTEGRATED INTO STREAMML FEATURE SELECTION MODULE"
   ]
  },
  {
   "cell_type": "code",
   "execution_count": null,
   "metadata": {
    "collapsed": true
   },
   "outputs": [],
   "source": [
    "# Mixed Selection\n",
    "from statsmodels.regression import linear_model\n",
    "\n",
    "def mixed_selection(X, y, \n",
    "                       initial_list=[], \n",
    "                       threshold_in=0.01, \n",
    "                       threshold_out = 0.05, \n",
    "                       verbose=True):\n",
    "    \"\"\" Perform a forward-backward feature selection \n",
    "    based on p-value from statsmodels.api.OLS\n",
    "    Arguments:\n",
    "        X - pandas.DataFrame with candidate features\n",
    "        y - list-like with the target\n",
    "        initial_list - list of features to start with (column names of X)\n",
    "        threshold_in - include a feature if its p-value < threshold_in\n",
    "        threshold_out - exclude a feature if its p-value > threshold_out\n",
    "        verbose - whether to print the sequence of inclusions and exclusions\n",
    "    Returns: list of selected features \n",
    "    Always set threshold_in < threshold_out to avoid infinite looping.\n",
    "    See https://en.wikipedia.org/wiki/Stepwise_regression for the details\n",
    "    \"\"\"\n",
    "    included = list(initial_list)\n",
    "    while True:\n",
    "        changed=False\n",
    "        \n",
    "        # forward step\n",
    "        excluded = list(set(X.columns)-set(included))\n",
    "        new_pval = pd.Series(index=excluded)\n",
    "        for new_column in excluded:\n",
    "            model = sm.OLS(y, sm.add_constant(pd.DataFrame(X[included+[new_column]]))).fit()\n",
    "            new_pval[new_column] = model.pvalues[new_column]\n",
    "                                                      \n",
    "        best_pval = new_pval.min()\n",
    "        \n",
    "        \n",
    "\n",
    "        if best_pval < threshold_in:\n",
    "            best_feature = new_pval.idxmin()\n",
    "            #best_feature = new_pval.argmin()\n",
    "            included.append(best_feature)\n",
    "            changed=True\n",
    "            if verbose:\n",
    "                print('Add  {:30} with p-value {:.6}'.format(best_feature, best_pval))\n",
    "\n",
    "        # backward step\n",
    "        model = sm.OLS(y, sm.add_constant(pd.DataFrame(X[included]))).fit()\n",
    "        # use all coefs except intercept\n",
    "        pvalues = model.pvalues.iloc[1:]\n",
    "        worst_pval = pvalues.max() # null if pvalues is empty\n",
    "        if worst_pval > threshold_out:\n",
    "            changed=True\n",
    "            worst_feature = pvalues.idxmax()\n",
    "            #worst_feature = pvalues.argmax()\n",
    "            included.remove(worst_feature)\n",
    "            if verbose:\n",
    "                print('Drop {:30} with p-value {:.6}'.format(worst_feature, worst_pval))\n",
    "\n",
    "        if not changed:\n",
    "            break\n",
    "\n",
    "    \n",
    "    return included"
   ]
  },
  {
   "cell_type": "code",
   "execution_count": null,
   "metadata": {
    "collapsed": true
   },
   "outputs": [],
   "source": []
  },
  {
   "cell_type": "code",
   "execution_count": null,
   "metadata": {
    "collapsed": true
   },
   "outputs": [],
   "source": [
    "# Lasso\n",
    "# (Feature_Space_3) Lasso Coeficients > 0 \n",
    "\n",
    "lasso_pipe             = Pipeline([('lasso',Lasso())])\n",
    "lasso_param_grid       = {'lasso__alpha':[0.01, 0.1, 1, 10, 100]}\n",
    "lasso_grid             = GridSearchCV(lasso_pipe, param_grid=lasso_param_grid, cv=3, n_jobs=4, verbose=True)\n",
    "lasso_fit              = lasso_grid.fit(Xtrain,bigframe_train.IC50).best_estimator_.named_steps[\"lasso\"]\n",
    "lasso_features         = lasso_fit.coef_\n",
    "lasso_features         = bigframe.columns[abs(lasso_fit.coef_) > 0].tolist()\n",
    "lasso_features_size    = len(lasso_features)\n",
    "lasso_features"
   ]
  },
  {
   "cell_type": "code",
   "execution_count": null,
   "metadata": {
    "collapsed": true
   },
   "outputs": [],
   "source": [
    "# Random Forest\n",
    "# (Feature_Space_4) Feature Importance > 0 \n",
    "\n",
    "rf_pipe              = Pipeline([('rf',RandomForestClassifier())])\n",
    "rf_param_grid       = {'rf__n_estimators':[10,100],\n",
    "                       'rf__bootstrap':[True, False],\n",
    "                       'rf__criterion':['gini','entropy']}\n",
    "\n",
    "rf_grid             = GridSearchCV(rf_pipe, param_grid=rf_param_grid, n_jobs=4, cv=3, verbose=True)\n",
    "\n",
    "rf_fit              = rf_grid.fit(Xtrain,ytrain).best_estimator_.named_steps['rf']\n",
    "rf_features         = rf_fit.feature_importances_\n",
    "rf_features         = bigframe.columns[rf_features > 0].tolist()\n",
    "rf_features_size    = len(rf_features)\n",
    "rf_features\n"
   ]
  },
  {
   "cell_type": "code",
   "execution_count": null,
   "metadata": {
    "collapsed": true
   },
   "outputs": [],
   "source": [
    "#MADM\n",
    "from skcriteria import Data, MIN, MAX\n",
    "from skcriteria.madm import closeness, simple\n",
    "\n",
    "# (Feature_Space_5) TOPSIS Top K Ranked Features\n",
    "\n",
    "feat_df = pd.DataFrame({'RF_Classifier':rf_fit.feature_importances_,\n",
    "                        'LASSO_Coef':abs(lasso_fit.coef_)},\n",
    "                      index=bigframe.columns[3:].tolist())\n",
    "\n",
    "mtx = feat_df.as_matrix()\n",
    "mtx\n",
    "\n",
    "# let's says the first two alternatives are\n",
    "# for maximization and the last one for minimization\n",
    "criteria = [MAX, MAX]\n",
    "criteria\n",
    "\n",
    "data = Data(mtx, criteria,\n",
    "            weights=[0.5,0.5],\n",
    "            anames=feat_df.index.tolist(),\n",
    "            cnames=feat_df.columns)\n",
    "\n",
    "dm1 = simple.WeightedSum()\n",
    "dm2 = simple.WeightedProduct()\n",
    "dm3 = closeness.TOPSIS(mnorm=\"vector\")\n",
    "dm4 = closeness.TOPSIS(mnorm=\"sum\")\n",
    "\n",
    "ranks=[]\n",
    "for alg in [dm1, dm2, dm3, dm4]:\n",
    "    dec = alg.decide(data)\n",
    "    ranks.append(dec.rank_) \n",
    "# Now lets decide the ranking\n",
    "\n",
    "rank_matrix= pd.DataFrame(ranks, index=['WeightedSum',\n",
    "                                     'WeightedProduct',\n",
    "                                     'TOPSIS_VectorNormalized',\n",
    "                                     'TOPSIS_SumNormalized'],\n",
    "                                   columns=feat_df.index).T\n",
    "\n",
    "rank_matrix\n",
    "\n",
    "rank_mask = rank_matrix < max([  len(rf_features),\n",
    "                                 len(lasso_features),\n",
    "                                 len(mixed_selection_features),\n",
    "                                 len(mixed_selection_1x_features)])\n",
    "\n",
    "rank_matrix=rank_matrix.loc[(rank_mask).any(axis=1)]\n",
    "\n",
    "topsis_features = rank_matrix.index.tolist()\n",
    "topsis_features_size = len(topsis_features)\n",
    "\n",
    "\n"
   ]
  },
  {
   "cell_type": "code",
   "execution_count": null,
   "metadata": {
    "collapsed": true
   },
   "outputs": [],
   "source": [
    "# Get subspace features\n",
    "data_per_space = {}\n",
    "def get_train_test_in_space(bigframe_train, bigframe_test, space):\n",
    "\n",
    "    bigframe_train = shuffle(bigframe_train, random_state=0)\n",
    "    bigframe_test = shuffle(bigframe_test, random_state=0)\n",
    "    \n",
    "    ytrain = bigframe_train[\"bin2\"].as_matrix()\n",
    "    Xtrain = StandardScaler().fit_transform(bigframe_train[space].as_matrix())\n",
    "\n",
    "    ytest = bigframe_test[\"bin2\"].as_matrix()\n",
    "    Xtest = StandardScaler().fit_transform(bigframe_test[space].as_matrix())\n",
    "    print(\"Data ready to model.\")\n",
    "    \n",
    "    return Xtrain, ytrain, Xtest, ytest\n",
    "\n",
    "for k,space in feature_space.items():\n",
    "    data_per_space[k]=get_train_test_in_space(bigframe_train, bigframe_test, space)"
   ]
  },
  {
   "cell_type": "code",
   "execution_count": null,
   "metadata": {
    "collapsed": true
   },
   "outputs": [],
   "source": [
    "# Confidence Intervals\n",
    "import numpy as np\n",
    "import scipy as sp\n",
    "import scipy.stats\n",
    "\n",
    "full_confidence_intervals={}\n",
    "def mean_confidence_interval(data, confidence=0.95):\n",
    "    a = 1.0*np.array(data)\n",
    "    n = len(a)\n",
    "    m, se = np.mean(a), scipy.stats.sem(a)\n",
    "    h = se * sp.stats.t._ppf((1+confidence)/2., n-1)\n",
    "    return m-h, m+h\n",
    "\n",
    "for k,v in full_scores.items():\n",
    "    \n",
    "    full_confidence_intervals[k] = mean_confidence_interval(v)"
   ]
  },
  {
   "cell_type": "code",
   "execution_count": null,
   "metadata": {
    "collapsed": true
   },
   "outputs": [],
   "source": [
    "# Visualize Confidence Intervals\n",
    "import matplotlib\n",
    "font = {'family' : 'normal',\n",
    "  'weight' : 'bold',\n",
    "  'size' : 16}\n",
    "matplotlib.rc('font', **font)\n",
    "ax=sns.boxplot(x=\"AUC\", y=\"Model\", data=pd.melt(pd.DataFrame(full_confidence_intervals), var_name='Model', value_name='AUC'))    \n",
    "plt.title('ROC AUC ML Model')\n",
    "plt.show()\n",
    "# Add legend Add title Change Axis"
   ]
  },
  {
   "cell_type": "code",
   "execution_count": null,
   "metadata": {
    "collapsed": true
   },
   "outputs": [],
   "source": [
    "\n"
   ]
  },
  {
   "cell_type": "code",
   "execution_count": 2,
   "metadata": {},
   "outputs": [
    {
     "data": {
      "text/plain": [
       "['',\n",
       " '/Users/laurensuarez/anaconda3/lib/python36.zip',\n",
       " '/Users/laurensuarez/anaconda3/lib/python3.6',\n",
       " '/Users/laurensuarez/anaconda3/lib/python3.6/lib-dynload',\n",
       " '/Users/laurensuarez/anaconda3/lib/python3.6/site-packages',\n",
       " '/Users/laurensuarez/anaconda3/lib/python3.6/site-packages/aeosa',\n",
       " '/Users/laurensuarez/anaconda3/lib/python3.6/site-packages/IPython/extensions',\n",
       " '/Users/laurensuarez/.ipython']"
      ]
     },
     "execution_count": 2,
     "metadata": {},
     "output_type": "execute_result"
    }
   ],
   "source": []
  },
  {
   "cell_type": "code",
   "execution_count": null,
   "metadata": {
    "collapsed": true
   },
   "outputs": [],
   "source": []
  }
 ],
 "metadata": {
  "kernelspec": {
   "display_name": "Python 3",
   "language": "python",
   "name": "python3"
  },
  "language_info": {
   "codemirror_mode": {
    "name": "ipython",
    "version": 3
   },
   "file_extension": ".py",
   "mimetype": "text/x-python",
   "name": "python",
   "nbconvert_exporter": "python",
   "pygments_lexer": "ipython3",
   "version": "3.6.5"
  }
 },
 "nbformat": 4,
 "nbformat_minor": 2
}
